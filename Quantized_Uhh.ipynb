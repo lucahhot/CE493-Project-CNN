{
 "cells": [
  {
   "cell_type": "code",
   "execution_count": 129,
   "metadata": {},
   "outputs": [
    {
     "name": "stdout",
     "output_type": "stream",
     "text": [
      "Epoch 1/20\n",
      "288/288 [==============================] - 1s 2ms/step - loss: 0.3285 - accuracy: 0.8357 - val_loss: 0.2981 - val_accuracy: 0.8513\n",
      "Epoch 2/20\n",
      "288/288 [==============================] - 1s 2ms/step - loss: 0.2911 - accuracy: 0.8618 - val_loss: 0.2848 - val_accuracy: 0.8570\n",
      "Epoch 3/20\n",
      "288/288 [==============================] - 1s 2ms/step - loss: 0.2805 - accuracy: 0.8654 - val_loss: 0.2786 - val_accuracy: 0.8609\n",
      "Epoch 4/20\n",
      "288/288 [==============================] - 1s 2ms/step - loss: 0.2711 - accuracy: 0.8719 - val_loss: 0.2834 - val_accuracy: 0.8570\n",
      "Epoch 5/20\n",
      "288/288 [==============================] - 0s 2ms/step - loss: 0.2646 - accuracy: 0.8730 - val_loss: 0.2674 - val_accuracy: 0.8635\n",
      "Epoch 6/20\n",
      "288/288 [==============================] - 1s 2ms/step - loss: 0.2574 - accuracy: 0.8776 - val_loss: 0.2605 - val_accuracy: 0.8726\n",
      "Epoch 7/20\n",
      "288/288 [==============================] - 1s 2ms/step - loss: 0.2526 - accuracy: 0.8809 - val_loss: 0.2587 - val_accuracy: 0.8757\n",
      "Epoch 8/20\n",
      "288/288 [==============================] - 1s 2ms/step - loss: 0.2492 - accuracy: 0.8820 - val_loss: 0.2569 - val_accuracy: 0.8770\n",
      "Epoch 9/20\n",
      "288/288 [==============================] - 0s 2ms/step - loss: 0.2444 - accuracy: 0.8840 - val_loss: 0.2535 - val_accuracy: 0.8791\n",
      "Epoch 10/20\n",
      "288/288 [==============================] - 1s 2ms/step - loss: 0.2430 - accuracy: 0.8856 - val_loss: 0.2515 - val_accuracy: 0.8778\n",
      "Epoch 11/20\n",
      "288/288 [==============================] - 0s 2ms/step - loss: 0.2396 - accuracy: 0.8885 - val_loss: 0.2506 - val_accuracy: 0.8813\n",
      "Epoch 12/20\n",
      "288/288 [==============================] - 1s 2ms/step - loss: 0.2394 - accuracy: 0.8902 - val_loss: 0.2483 - val_accuracy: 0.8826\n",
      "Epoch 13/20\n",
      "288/288 [==============================] - 1s 2ms/step - loss: 0.2346 - accuracy: 0.8913 - val_loss: 0.2510 - val_accuracy: 0.8813\n",
      "Epoch 14/20\n",
      "288/288 [==============================] - 0s 2ms/step - loss: 0.2360 - accuracy: 0.8917 - val_loss: 0.2531 - val_accuracy: 0.8835\n",
      "Epoch 15/20\n",
      "288/288 [==============================] - 1s 2ms/step - loss: 0.2323 - accuracy: 0.8953 - val_loss: 0.2493 - val_accuracy: 0.8874\n",
      "Epoch 16/20\n",
      "288/288 [==============================] - 0s 2ms/step - loss: 0.2313 - accuracy: 0.8930 - val_loss: 0.2453 - val_accuracy: 0.8874\n",
      "Epoch 17/20\n",
      "288/288 [==============================] - 1s 2ms/step - loss: 0.2281 - accuracy: 0.8938 - val_loss: 0.2441 - val_accuracy: 0.8913\n",
      "Epoch 18/20\n",
      "288/288 [==============================] - 0s 2ms/step - loss: 0.2284 - accuracy: 0.8935 - val_loss: 0.2430 - val_accuracy: 0.8874\n",
      "Epoch 19/20\n",
      "288/288 [==============================] - 0s 2ms/step - loss: 0.2273 - accuracy: 0.8959 - val_loss: 0.2424 - val_accuracy: 0.8878\n",
      "Epoch 20/20\n",
      "288/288 [==============================] - 0s 2ms/step - loss: 0.2256 - accuracy: 0.8995 - val_loss: 0.2429 - val_accuracy: 0.8917\n",
      "INFO:tensorflow:Assets written to: C:\\Users\\Windows\\AppData\\Local\\Temp\\tmp760hz2y5\\assets\n"
     ]
    },
    {
     "name": "stderr",
     "output_type": "stream",
     "text": [
      "INFO:tensorflow:Assets written to: C:\\Users\\Windows\\AppData\\Local\\Temp\\tmp760hz2y5\\assets\n"
     ]
    },
    {
     "name": "stdout",
     "output_type": "stream",
     "text": [
      "\n",
      "Original Model Summary:\n",
      "Model: \"sequential_26\"\n",
      "_________________________________________________________________\n",
      " Layer (type)                Output Shape              Param #   \n",
      "=================================================================\n",
      " conv2d_26 (Conv2D)          (None, 25, 25, 3)         51        \n",
      "                                                                 \n",
      " max_pooling2d_26 (MaxPooli  (None, 12, 12, 3)         0         \n",
      " ng2D)                                                           \n",
      "                                                                 \n",
      " flatten_26 (Flatten)        (None, 432)               0         \n",
      "                                                                 \n",
      " dense_26 (Dense)            (None, 1)                 433       \n",
      "                                                                 \n",
      "=================================================================\n",
      "Total params: 484 (1.89 KB)\n",
      "Trainable params: 484 (1.89 KB)\n",
      "Non-trainable params: 0 (0.00 Byte)\n",
      "_________________________________________________________________\n",
      "\n",
      "Quantized Model Summary:\n",
      "Model: \"sequential_26\"\n",
      "_________________________________________________________________\n",
      " Layer (type)                Output Shape              Param #   \n",
      "=================================================================\n",
      " quantize_layer_26 (Quantiz  (None, 28, 28, 1)         3         \n",
      " eLayer)                                                         \n",
      "                                                                 \n",
      " quant_conv2d_26 (QuantizeW  (None, 25, 25, 3)         60        \n",
      " rapperV2)                                                       \n",
      "                                                                 \n",
      " quant_max_pooling2d_26 (Qu  (None, 12, 12, 3)         1         \n",
      " antizeWrapperV2)                                                \n",
      "                                                                 \n",
      " quant_flatten_26 (Quantize  (None, 432)               1         \n",
      " WrapperV2)                                                      \n",
      "                                                                 \n",
      " quant_dense_26 (QuantizeWr  (None, 1)                 438       \n",
      " apperV2)                                                        \n",
      "                                                                 \n",
      "=================================================================\n",
      "Total params: 503 (1.96 KB)\n",
      "Trainable params: 484 (1.89 KB)\n",
      "Non-trainable params: 19 (76.00 Byte)\n",
      "_________________________________________________________________\n"
     ]
    },
    {
     "name": "stderr",
     "output_type": "stream",
     "text": [
      "c:\\Users\\Windows\\anaconda3\\Lib\\site-packages\\tensorflow\\lite\\python\\convert.py:953: UserWarning: Statistics for quantized inputs were expected, but not specified; continuing anyway.\n",
      "  warnings.warn(\n"
     ]
    },
    {
     "name": "stdout",
     "output_type": "stream",
     "text": [
      "\n",
      "Average Inference Time: 2.1381378173828127e-05 seconds\n",
      "72/72 [==============================] - 0s 1ms/step - loss: 0.6701 - accuracy: 0.7565\n",
      "\n",
      "Test accuracy (quantized model): 0.7565217614173889\n"
     ]
    },
    {
     "data": {
      "image/png": "[encoded data removed]",
      "text/plain": [
       "<Figure size 640x480 with 1 Axes>"
      ]
     },
     "metadata": {},
     "output_type": "display_data"
    }
   ],
   "source": [
    "import numpy as np\n",
    "import pandas as pd\n",
    "import matplotlib.pyplot as plt\n",
    "from sklearn.model_selection import train_test_split\n",
    "import tensorflow as tf\n",
    "from tensorflow.keras.models import Sequential\n",
    "from tensorflow.keras.layers import Conv2D, MaxPooling2D, Flatten, Dense\n",
    "from tensorflow_model_optimization.quantization.keras import quantize_model\n",
    "import time  # Import the time module for performance measurement\n",
    "\n",
    "# Load the dataset\n",
    "data = pd.read_csv(r'C:\\Users\\Windows\\Downloads\\archive\\2_character_TMNIST.csv')  # Update the path to your dataset file\n",
    "\n",
    "# Separate data into features (X) and labels (y)\n",
    "X = data.drop(columns=['names', 'labels'])\n",
    "y = data['labels']\n",
    "\n",
    "# Convert 'X' and 'O' labels to binary values (1 for 'X' and 0 for 'O')\n",
    "y_binary = (y == 'X').astype(int)\n",
    "\n",
    "# Split the data into training and testing sets\n",
    "X_train, X_test, y_train, y_test = train_test_split(X, y_binary, test_size=0.2, random_state=42)\n",
    "\n",
    "# Reshape data for CNN input\n",
    "X_train = X_train.values.reshape(-1, 28, 28, 1)\n",
    "X_test = X_test.values.reshape(-1, 28, 28, 1)\n",
    "\n",
    "# Normalize the data\n",
    "X_train, X_test = X_train / 255.0, X_test / 255.0\n",
    "\n",
    "# Convert grayscale to binary\n",
    "X_train_binary = (X_train > 0.05).astype(float)\n",
    "X_test_binary = (X_test > 0.05).astype(float)\n",
    "\n",
    "# Create a CNN model\n",
    "model = Sequential()\n",
    "model.add(Conv2D(3, (4, 4), activation='relu', input_shape=(28, 28, 1)))\n",
    "model.add(MaxPooling2D((2, 2)))\n",
    "model.add(Flatten())\n",
    "model.add(Dense(1, activation='sigmoid'))\n",
    "\n",
    "# Compile the model\n",
    "model.compile(optimizer='adam', loss='binary_crossentropy', metrics=['accuracy'])\n",
    "\n",
    "# Train the model for more epochs\n",
    "history = model.fit(X_train_binary, y_train, epochs=20, validation_data=(X_test_binary, y_test))\n",
    "\n",
    "# Quantize the model\n",
    "quantized_model = quantize_model(model)\n",
    "\n",
    "# Compile the quantized model\n",
    "quantized_model.compile(optimizer='adam', loss='binary_crossentropy', metrics=['accuracy'])\n",
    "\n",
    "# Convert the model to TensorFlow Lite with int8 quantization\n",
    "converter = tf.lite.TFLiteConverter.from_keras_model(quantized_model)\n",
    "converter.optimizations = [tf.lite.Optimize.DEFAULT]\n",
    "converter.target_spec.supported_ops = [tf.lite.OpsSet.TFLITE_BUILTINS_INT8]\n",
    "converter.inference_input_type = tf.uint8\n",
    "converter.inference_output_type = tf.uint8\n",
    "\n",
    "# Define a representative dataset\n",
    "def representative_dataset():\n",
    "    for input_data in tf.data.Dataset.from_tensor_slices(X_train_binary.astype(np.float32)).batch(1).take(100):\n",
    "        yield [input_data]\n",
    "\n",
    "converter.representative_dataset = representative_dataset\n",
    "\n",
    "# Convert the model to TensorFlow Lite\n",
    "tflite_model = converter.convert()\n",
    "\n",
    "# Save the TensorFlow Lite model\n",
    "with open('quantized_model_int8.tflite', 'wb') as f:\n",
    "    f.write(tflite_model)\n",
    "\n",
    "# Display model summary for the original model\n",
    "print(\"\\nOriginal Model Summary:\")\n",
    "model.summary()\n",
    "\n",
    "# Display model summary for the quantized model\n",
    "print(\"\\nQuantized Model Summary:\")\n",
    "quantized_model.summary()\n",
    "\n",
    "# Display performance summary\n",
    "interpreter = tf.lite.Interpreter(model_content=tflite_model)\n",
    "interpreter.allocate_tensors()\n",
    "\n",
    "# Warm-up the model\n",
    "for _ in range(10):\n",
    "    interpreter.invoke()\n",
    "\n",
    "# Measure inference time\n",
    "start_time = time.time()\n",
    "for _ in range(100):\n",
    "    interpreter.invoke()\n",
    "inference_time = (time.time() - start_time) / 100  # Average inference time per iteration\n",
    "\n",
    "# Display performance summary\n",
    "print(f'\\nAverage Inference Time: {inference_time} seconds')\n",
    "\n",
    "# Evaluate the quantized model\n",
    "test_loss, test_accuracy = quantized_model.evaluate(X_test_binary, y_test)\n",
    "print(f'\\nTest accuracy (quantized model): {test_accuracy}')\n",
    "\n",
    "# Plot training history\n",
    "plt.plot(history.history['accuracy'], label='train')\n",
    "plt.plot(history.history['val_accuracy'], label='test')\n",
    "plt.xlabel('Epoch')\n",
    "plt.ylabel('Accuracy')\n",
    "plt.legend()\n",
    "plt.show()\n"
   ]
  },
  {
   "cell_type": "markdown",
   "metadata": {},
   "source": [
    "Tfmodel"
   ]
  },
  {
   "cell_type": "code",
   "execution_count": 130,
   "metadata": {},
   "outputs": [
    {
     "name": "stdout",
     "output_type": "stream",
     "text": [
      "\n",
      "Quantized Model Weights and Parameters:\n",
      "\n",
      "Layer: quantize_layer_26\n",
      "Quantized Weight 1 shape: ()\n",
      "0\n",
      "Quantized Weight 2 shape: ()\n",
      "0\n",
      "Quantized Weight 3 shape: ()\n",
      "-127\n",
      "\n",
      "Layer: quant_conv2d_26\n",
      "Quantized Weight 1 shape: (4, 4, 1, 3)\n",
      "[[[[-37, -6, -24]], [[5, 15, 72]], [[-69, -24, 71]], [[1, 2, -34]]], [[[38, 32, 23]], [[19, 54, 33]], [[82, -6, 76]], [[-17, 14, -8]]], [[[-52, 18, 4]], [[-11, 44, -42]], [[-66, 25, -41]], [[-93, 42, -33]]], [[[26, 32, 14]], [[-3, 21, 13]], [[34, -36, -60]], [[65, 39, 32]]]]\n",
      "Quantized Weight 2 shape: (3,)\n",
      "[0, -3, 0]\n",
      "Quantized Weight 3 shape: ()\n",
      "-127\n",
      "Quantized Weight 4 shape: (3,)\n",
      "[6, 6, 6]\n",
      "Quantized Weight 5 shape: (3,)\n",
      "[-6, -6, -6]\n",
      "Quantized Weight 6 shape: ()\n",
      "6\n",
      "Quantized Weight 7 shape: ()\n",
      "-6\n",
      "\n",
      "Layer: quant_max_pooling2d_26\n",
      "Quantized Weight 1 shape: ()\n",
      "-127\n",
      "\n",
      "Layer: quant_flatten_26\n",
      "Quantized Weight 1 shape: ()\n",
      "-127\n",
      "\n",
      "Layer: quant_dense_26\n",
      "Quantized Weight 1 shape: (432, 1)\n",
      "[[-32], [-32], [-55], [6], [-6], [4], [-15], [-1], [-6], [13], [-14], [-37], [17], [-6], [-61], [5], [3], [6], [-29], [21], [57], [4], [-14], [39], [10], [11], [-48], [12], [33], [18], [26], [19], [5], [27], [7], [-15], [-28], [-58], [-37], [49], [24], [67], [29], [-5], [75], [-5], [0], [-24], [0], [13], [-2], [6], [-2], [-20], [19], [-5], [24], [-38], [-30], [23], [1], [-2], [-69], [15], [-2], [32], [51], [-2], [77], [90], [-3], [50], [28], [11], [42], [59], [-2], [-33], [6], [7], [-8], [-2], [-4], [-1], [-48], [-6], [-9], [-9], [-16], [5], [37], [-5], [24], [-19], [-20], [-23], [-58], [-15], [7], [19], [-7], [33], [98], [-19], [-15], [96], [-17], [-22], [-6], [38], [-24], [36], [28], [-67], [-35], [10], [-14], [16], [-2], [17], [-18], [-6], [0], [14], [0], [-4], [1], [2], [19], [27], [-1], [-2], [1], [-11], [-8], [-71], [-9], [23], [-39], [-20], [-16], [42], [0], [-3], [-54], [24], [-79], [5], [18], [24], [-66], [35], [7], [-4], [15], [-28], [85], [-4], [-10], [7], [6], [-11], [58], [11], [2], [39], [-6], [-1], [7], [-1], [2], [-85], [-8], [-11], [-98], [-15], [-33], [-15], [2], [79], [-22], [17], [-9], [-26], [7], [39], [-15], [5], [13], [-8], [-6], [16], [43], [-11], [-1], [28], [0], [-13], [84], [31], [37], [28], [7], [24], [-15], [-9], [6], [17], [14], [9], [-11], [-4], [7], [-39], [-43], [0], [-62], [-28], [-91], [32], [-34], [54], [0], [1], [22], [-9], [-2], [51], [31], [-3], [-3], [43], [-10], [-14], [13], [21], [17], [31], [7], [8], [0], [-9], [-5], [42], [-5], [13], [17], [-37], [-34], [-56], [-48], [-87], [-2], [-62], [-32], [-1], [-32], [25], [23], [-4], [14], [-91], [2], [-3], [-57], [-4], [4], [17], [11], [2], [-21], [24], [45], [22], [11], [-14], [-5], [-10], [-7], [-37], [-12], [28], [9], [-16], [-30], [3], [-30], [-20], [25], [4], [-9], [23], [-22], [10], [-17], [-31], [-22], [-30], [-19], [14], [-25], [-18], [18], [36], [-4], [14], [-59], [-11], [30], [45], [20], [5], [44], [-5], [-27], [12], [-8], [9], [-16], [-11], [-11], [1], [-16], [0], [36], [15], [33], [-2], [14], [-5], [24], [-4], [-52], [-12], [-16], [4], [67], [-17], [-7], [-49], [8], [-6], [-12], [-13], [-8], [18], [-4], [-4], [64], [-9], [-17], [1], [-12], [-8], [4], [-11], [-9], [14], [-10], [24], [57], [-8], [41], [-62], [9], [29], [111], [-8], [6], [70], [9], [-2], [57], [-6], [-29], [-24], [-11], [-14], [14], [-9], [6], [-6], [9], [-31], [59], [2], [-13], [19], [9], [-8], [-3], [-1], [-5], [74], [0], [21], [-14], [-50], [-69], [-102], [-62], [-46], [75], [-17], [20], [-2], [7], [11], [59], [16], [13], [46], [6], [23], [-82], [-52], [-13], [-12], [29], [0], [31], [-7], [3], [11], [3], [-4], [45], [-22], [7], [46], [-3], [5]]\n",
      "Quantized Weight 2 shape: (1,)\n",
      "[-10]\n",
      "Quantized Weight 3 shape: ()\n",
      "-127\n",
      "Quantized Weight 4 shape: ()\n",
      "6\n",
      "Quantized Weight 5 shape: ()\n",
      "-6\n",
      "Quantized Weight 6 shape: ()\n",
      "6\n",
      "Quantized Weight 7 shape: ()\n",
      "-6\n"
     ]
    }
   ],
   "source": [
    "# Display model weights and parameters for the quantized model\n",
    "print(\"\\nQuantized Model Weights and Parameters:\")\n",
    "for layer in quantized_model.layers:\n",
    "    if hasattr(layer, 'get_weights'):\n",
    "        weights = layer.get_weights()\n",
    "        if weights:\n",
    "            print(f\"\\nLayer: {layer.name}\")\n",
    "            for i in range(len(weights)):\n",
    "                quantized_values = np.int8(weights[i] * 127).tolist()\n",
    "                print(f\"Quantized Weight {i + 1} shape: {weights[i].shape}\")\n",
    "                print(quantized_values)\n"
   ]
  },
  {
   "cell_type": "code",
   "execution_count": 131,
   "metadata": {},
   "outputs": [
    {
     "name": "stdout",
     "output_type": "stream",
     "text": [
      "Quantization details have been saved to: model_quantization_details.txt\n"
     ]
    }
   ],
   "source": [
    "# Save the output to a text file\n",
    "output_file_path = 'model_quantization_details.txt'\n",
    "with open(output_file_path, 'w') as f:\n",
    "    f.write(\"\\nQuantized Model Weights and Parameters:\\n\")\n",
    "    for layer in quantized_model.layers:\n",
    "        if hasattr(layer, 'get_weights'):\n",
    "            weights = layer.get_weights()\n",
    "            if weights:\n",
    "                f.write(f\"\\nLayer: {layer.name}\\n\")\n",
    "                for i in range(len(weights)):\n",
    "                    quantized_values = np.int8(weights[i] * 127).tolist()\n",
    "                    f.write(f\"Quantized Weight {i + 1} shape: {weights[i].shape}\\n\")\n",
    "                    f.write(str(quantized_values) + \"\\n\")\n",
    "\n",
    "# Display a message indicating the file path\n",
    "print(f\"Quantization details have been saved to: {output_file_path}\")\n"
   ]
  },
  {
   "cell_type": "markdown",
   "metadata": {},
   "source": [
    "# This uses the seeded images to get a prediction"
   ]
  },
  {
   "cell_type": "code",
   "execution_count": null,
   "metadata": {},
   "outputs": [],
   "source": []
  },
  {
   "cell_type": "markdown",
   "metadata": {},
   "source": [
    "# This re-reads a binary image from text"
   ]
  },
  {
   "cell_type": "code",
   "execution_count": 132,
   "metadata": {},
   "outputs": [
    {
     "data": {
      "image/png": "[encoded data removed]",
      "text/plain": [
       "<Figure size 640x480 with 1 Axes>"
      ]
     },
     "metadata": {},
     "output_type": "display_data"
    },
    {
     "name": "stdout",
     "output_type": "stream",
     "text": [
      "Confidence Score: 122\n",
      "Predicted Label: 0\n"
     ]
    }
   ],
   "source": [
    "# Load the quantized TFLite model\n",
    "quantized_model_path = 'quantized_model_int8.tflite'\n",
    "interpreter = tf.lite.Interpreter(model_path=quantized_model_path)\n",
    "interpreter.allocate_tensors()\n",
    "\n",
    "# Get input and output tensors\n",
    "input_tensor_index = interpreter.get_input_details()[0]['index']\n",
    "output_tensor_index = interpreter.get_output_details()[0]['index']\n",
    "\n",
    "# Choose an image index to test\n",
    "image_index = 102\n",
    "input_data = X_test_binary[image_index].reshape(1, 28, 28, 1).astype(np.uint8)  # Convert to UINT8\n",
    "\n",
    "# Set input tensor\n",
    "interpreter.set_tensor(input_tensor_index, input_data)\n",
    "\n",
    "# Run inference\n",
    "interpreter.invoke()\n",
    "\n",
    "# Get the output\n",
    "output = interpreter.get_tensor(output_tensor_index)\n",
    "\n",
    "# Display the original image\n",
    "plt.imshow(X_test_binary[image_index].reshape(28, 28), cmap='gray')\n",
    "plt.title(f'Original Label: {y_test.iloc[image_index]}')\n",
    "plt.show()\n",
    "\n",
    "# Display the confidence score (output value)\n",
    "confidence_score = output[0][0]\n",
    "print(f'Confidence Score: {confidence_score}')\n",
    "\n",
    "# Display the predicted label based on a threshold (e.g., 0.5)\n",
    "predicted_label = 1 if confidence_score > 128 else 0\n",
    "print(f'Predicted Label: {predicted_label}')\n",
    "\n",
    "from IPython.display import clear_output\n",
    "\n",
    "# Clear the output\n",
    "clear_output(wait=True)"
   ]
  },
  {
   "cell_type": "code",
   "execution_count": 133,
   "metadata": {},
   "outputs": [
    {
     "data": {
      "image/png": "[encoded data removed]",
      "text/plain": [
       "<Figure size 640x480 with 1 Axes>"
      ]
     },
     "metadata": {},
     "output_type": "display_data"
    },
    {
     "name": "stdout",
     "output_type": "stream",
     "text": [
      "output [[122]]\n",
      "Confidence Score: 0.960629940032959\n",
      "Predicted Label: 1\n"
     ]
    }
   ],
   "source": [
    "# Specify the index to examine\n",
    "image_index = 102\n",
    "\n",
    "# Get the input image and its true label\n",
    "input_image = X_test_binary[image_index].reshape(1, 28, 28, 1)\n",
    "true_label = y_test.iloc[image_index]\n",
    "\n",
    "# Display the input image\n",
    "plt.imshow(X_test_binary[image_index].reshape(28, 28), cmap='gray')\n",
    "plt.title(f'Test Image at Index {image_index}')\n",
    "plt.axis('off')\n",
    "plt.show()\n",
    "\n",
    "# Apply quantization to the input image\n",
    "quantized_input_image = np.int8(input_image)\n",
    "\n",
    "# Set input tensor for inference\n",
    "interpreter.set_tensor(input_tensor_index, quantized_input_image.astype(np.uint8))\n",
    "\n",
    "# Run inference\n",
    "interpreter.invoke()\n",
    "\n",
    "# Get the output tensor\n",
    "output = interpreter.get_tensor(output_tensor_index)\n",
    "\n",
    "print('output', output)\n",
    "\n",
    "# Dequantize the output with proper scaling\n",
    "dequantized_output = (output.astype(np.float32) - np.int8(0.5)) / 127.0\n",
    "\n",
    "# Display the confidence score (output value)\n",
    "confidence_score = dequantized_output[0][0]\n",
    "print(f'Confidence Score: {confidence_score}')\n",
    "\n",
    "# Display the predicted label based on a threshold (e.g., 0.5)\n",
    "predicted_label = 1 if confidence_score > 0.5 else 0\n",
    "print(f'Predicted Label: {predicted_label}')\n"
   ]
  }
 ],
 "metadata": {
  "kernelspec": {
   "display_name": "base",
   "language": "python",
   "name": "python3"
  },
  "language_info": {
   "codemirror_mode": {
    "name": "ipython",
    "version": 3
   },
   "file_extension": ".py",
   "mimetype": "text/x-python",
   "name": "python",
   "nbconvert_exporter": "python",
   "pygments_lexer": "ipython3",
   "version": "3.11.5"
  }
 },
 "nbformat": 4,
 "nbformat_minor": 2
}
